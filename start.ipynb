{
 "cells": [
  {
   "cell_type": "markdown",
   "metadata": {},
   "source": [
    "### ประกาศตัวแปร"
   ]
  },
  {
   "cell_type": "code",
   "execution_count": 1,
   "metadata": {},
   "outputs": [],
   "source": [
    "myname = \"bo\"\n",
    "my_age = 18\n",
    "my_school = \"bysr\"\n",
    "my_grade = 3.79\n",
    "my_thai_name = \"โบ๋\""
   ]
  },
  {
   "cell_type": "markdown",
   "metadata": {},
   "source": [
    "### show results"
   ]
  },
  {
   "cell_type": "code",
   "execution_count": 2,
   "metadata": {},
   "outputs": [
    {
     "name": "stdout",
     "output_type": "stream",
     "text": [
      "bo\n",
      "18\n",
      "bysr\n",
      "3.79\n",
      "โบ๋\n"
     ]
    }
   ],
   "source": [
    "print(myname)\n",
    "print(my_age)\n",
    "print(my_school)\n",
    "print(my_grade)\n",
    "print(my_thai_name)"
   ]
  },
  {
   "cell_type": "code",
   "execution_count": 3,
   "metadata": {},
   "outputs": [
    {
     "name": "stdout",
     "output_type": "stream",
     "text": [
      "bo , 18\n",
      "bysr\t3.79 โบ๋\n"
     ]
    }
   ],
   "source": [
    "print(f\"{myname} , {my_age}\\n{my_school}\\t{my_grade} {my_thai_name}\")"
   ]
  },
  {
   "cell_type": "markdown",
   "metadata": {},
   "source": [
    "### list (same array in c)"
   ]
  },
  {
   "cell_type": "markdown",
   "metadata": {},
   "source": [
    "- list of int"
   ]
  },
  {
   "cell_type": "code",
   "execution_count": 10,
   "metadata": {},
   "outputs": [
    {
     "name": "stdout",
     "output_type": "stream",
     "text": [
      "my list = [1, 2, 3, 4, 5]\n",
      "my_list 0 = 4\n"
     ]
    }
   ],
   "source": [
    "my_list = [1,2,3,4,5]\n",
    "print(f\"my list = {my_list}\")\n",
    "print(f\"my_list 0 = {my_list[3]}\")"
   ]
  },
  {
   "cell_type": "markdown",
   "metadata": {},
   "source": [
    "- list of string"
   ]
  },
  {
   "cell_type": "code",
   "execution_count": 12,
   "metadata": {},
   "outputs": [
    {
     "name": "stdout",
     "output_type": "stream",
     "text": [
      "my list2 = ['yeeh', 'maeji', 'boy', 'kae']\n",
      "my_list2 2 = maeji\n"
     ]
    }
   ],
   "source": [
    "my_list2 = [\"yeeh\", \"maeji\", \"boy\", \"kae\"]\n",
    "print(f\"my list2 = {my_list2}\")\n",
    "print(f\"my_list2 2 = {my_list2[1]}\")"
   ]
  },
  {
   "cell_type": "markdown",
   "metadata": {},
   "source": [
    "- list of list"
   ]
  },
  {
   "cell_type": "code",
   "execution_count": 18,
   "metadata": {},
   "outputs": [
    {
     "name": "stdout",
     "output_type": "stream",
     "text": [
      "my_list3 = [[1, 2, 3, 4, 5], ['yeeh', 'maeji', 'boy', 'kae']]\n",
      "my_list3 [0] = [1, 2, 3, 4, 5]\n",
      "my_list3 [1] = ['yeeh', 'maeji', 'boy', 'kae']\n",
      "my_list3 [0][0] = 1\n",
      "my_list3 [1][1] = maeji\n"
     ]
    }
   ],
   "source": [
    "my_list3 = [my_list, my_list2]\n",
    "print(f\"my_list3 = {my_list3}\")\n",
    "print(f\"my_list3 [0] = {my_list3[0]}\")\n",
    "print(f\"my_list3 [1] = {my_list3[1]}\")\n",
    "print(f\"my_list3 [0][0] = {my_list3[0][0]}\")\n",
    "print(f\"my_list3 [1][1] = {my_list3[1][1]}\")"
   ]
  },
  {
   "cell_type": "markdown",
   "metadata": {},
   "source": [
    "## Dictionary"
   ]
  },
  {
   "cell_type": "code",
   "execution_count": 29,
   "metadata": {},
   "outputs": [
    {
     "name": "stdout",
     "output_type": "stream",
     "text": [
      "my_dict = {'age': 24, 'name': 'Yeeh'}\n",
      "key 'name' = Yeeh\n",
      "key 'age'  = 24\n",
      "dict_keys(['age', 'name'])\n",
      "dict_values([24, 'Yeeh'])\n"
     ]
    }
   ],
   "source": [
    "my_dict = { 'age' : 24,\n",
    "            'name' : \"Yeeh\"\n",
    "           }\n",
    "print(f\"my_dict = {my_dict}\")\n",
    "print(f\"key 'name' = {my_dict['name']}\")\n",
    "print(f\"key 'age'  = {my_dict['age']}\")\n",
    "print(my_dict.keys())\n",
    "print(my_dict.values())"
   ]
  },
  {
   "cell_type": "code",
   "execution_count": 1,
   "metadata": {},
   "outputs": [
    {
     "name": "stdout",
     "output_type": "stream",
     "text": [
      "my_dict_list = {'student_name': ['yeeh', 'maeji', 'boy'], 'student_GPA': [3.93, 3.79, 4.0], 'room_name': 'Omega', 'number_students': 24}\n",
      "all_student_name = ['yeeh', 'maeji', 'boy']\n",
      "all_student_gpa  = [3.93, 3.79, 4.0]\n",
      "room_name = Omega\n",
      "number_students = 24\n"
     ]
    }
   ],
   "source": [
    "my_dict_list = {    'student_name' : ['yeeh','maeji','boy'],\n",
    "                    'student_GPA'  : [3.93, 3.79, 4.00],\n",
    "                    'room_name'    : \"Omega\",\n",
    "                    'number_students' : 24,\n",
    "                }\n",
    "\n",
    "print(f\"my_dict_list = {my_dict_list}\")\n",
    "print(f\"all_student_name = {my_dict_list['student_name']}\")\n",
    "print(f\"all_student_gpa  = {my_dict_list['student_GPA']}\")\n",
    "print(f\"room_name = {my_dict_list['room_name']}\")\n",
    "print(f\"number_students = {my_dict_list['number_students']}\")"
   ]
  },
  {
   "cell_type": "markdown",
   "metadata": {},
   "source": [
    "---"
   ]
  },
  {
   "cell_type": "code",
   "execution_count": 4,
   "metadata": {},
   "outputs": [],
   "source": [
    "import numpy as np"
   ]
  },
  {
   "cell_type": "code",
   "execution_count": 5,
   "metadata": {},
   "outputs": [
    {
     "name": "stdout",
     "output_type": "stream",
     "text": [
      "36\n"
     ]
    }
   ],
   "source": [
    "array = np.array([1,2,3,4,5,6,7,8])\n",
    "print(array.sum())"
   ]
  },
  {
   "cell_type": "code",
   "execution_count": 12,
   "metadata": {},
   "outputs": [
    {
     "data": {
      "image/png": "[encoded data removed]",
      "text/plain": [
       "<Figure size 640x480 with 1 Axes>"
      ]
     },
     "metadata": {},
     "output_type": "display_data"
    }
   ],
   "source": [
    "import matplotlib.pyplot as plt\n",
    "\n",
    "plt.hist(np.random.randn(1000), color='blue', bins=20)\n",
    "plt.show()"
   ]
  }
 ],
 "metadata": {
  "kernelspec": {
   "display_name": "myenv",
   "language": "python",
   "name": "python3"
  },
  "language_info": {
   "codemirror_mode": {
    "name": "ipython",
    "version": 3
   },
   "file_extension": ".py",
   "mimetype": "text/x-python",
   "name": "python",
   "nbconvert_exporter": "python",
   "pygments_lexer": "ipython3",
   "version": "3.9.13"
  }
 },
 "nbformat": 4,
 "nbformat_minor": 2
}
